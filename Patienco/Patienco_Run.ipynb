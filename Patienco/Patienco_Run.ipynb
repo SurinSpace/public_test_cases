{
 "cells": [
  {
   "cell_type": "code",
   "execution_count": 1,
   "metadata": {},
   "outputs": [],
   "source": [
    "import base64\n",
    "import datetime\n",
    "import io\n",
    "\n",
    "import dash\n",
    "from dash.dependencies import Input, Output, State\n",
    "import dash_core_components as dcc\n",
    "import dash_html_components as html\n",
    "import dash_table\n",
    "\n",
    "import pandas as pd\n",
    "import json\n",
    "import os"
   ]
  },
  {
   "cell_type": "code",
   "execution_count": 2,
   "metadata": {},
   "outputs": [],
   "source": [
    "user_format_input='csv'"
   ]
  },
  {
   "cell_type": "code",
   "execution_count": 3,
   "metadata": {},
   "outputs": [
    {
     "data": {
      "text/html": [
       "<div>\n",
       "<style scoped>\n",
       "    .dataframe tbody tr th:only-of-type {\n",
       "        vertical-align: middle;\n",
       "    }\n",
       "\n",
       "    .dataframe tbody tr th {\n",
       "        vertical-align: top;\n",
       "    }\n",
       "\n",
       "    .dataframe thead th {\n",
       "        text-align: right;\n",
       "    }\n",
       "</style>\n",
       "<table border=\"1\" class=\"dataframe\">\n",
       "  <thead>\n",
       "    <tr style=\"text-align: right;\">\n",
       "      <th></th>\n",
       "      <th>ID</th>\n",
       "      <th>Name</th>\n",
       "      <th>Age</th>\n",
       "      <th>Favorite Color</th>\n",
       "    </tr>\n",
       "  </thead>\n",
       "  <tbody>\n",
       "    <tr>\n",
       "      <th>0</th>\n",
       "      <td>1</td>\n",
       "      <td>Bob</td>\n",
       "      <td>23</td>\n",
       "      <td>Red</td>\n",
       "    </tr>\n",
       "    <tr>\n",
       "      <th>1</th>\n",
       "      <td>2</td>\n",
       "      <td>“Doe,John”</td>\n",
       "      <td>99</td>\n",
       "      <td>“””Turquoise”””</td>\n",
       "    </tr>\n",
       "  </tbody>\n",
       "</table>\n",
       "</div>"
      ],
      "text/plain": [
       "   ID        Name  Age   Favorite Color\n",
       "0   1         Bob   23              Red\n",
       "1   2  “Doe,John”   99  “””Turquoise”””"
      ]
     },
     "execution_count": 3,
     "metadata": {},
     "output_type": "execute_result"
    }
   ],
   "source": [
    "t_tab=pd.read_csv('Input/Patienco.tsv', sep='\\t')\n",
    "t_tab\n",
    "t_csv=pd.read_csv('Input/Patienco.csv')\n",
    "t_csv"
   ]
  },
  {
   "cell_type": "code",
   "execution_count": 4,
   "metadata": {},
   "outputs": [],
   "source": [
    "def parse_file(user_format_input):\n",
    "    def fix_string(df):\n",
    "        for col in (df.select_dtypes(exclude='int64').columns):\n",
    "            #print(col)\n",
    "            #Fix triple\n",
    "            df[col]=df[[col]].applymap(lambda x:x.encode().decode('utf-8').replace('\\u201c\\u201d\\u201d', '\\\"').replace('\\u201d\\u201d\\u201d', '\\\"'))\n",
    "            #Fix single\n",
    "            df[col]=df[[col]].applymap(lambda x:x.encode().decode('utf-8').replace('\\u201c', '\\\"').replace('\\u201d', '\\\"'))\n",
    "        print('Srings Fixed!')\n",
    "        return df\n",
    "    try:\n",
    "        if user_format_input =='csv':\n",
    "            # Assume that the user uploaded a CSV file\n",
    "            df = pd.read_csv('Input/Patienco.csv')\n",
    "        else:\n",
    "            # Assume that the user uploaded an excel file\n",
    "            df = pd.read_csv('Input/Patienco.tsv', sep='\\t')\n",
    "            \n",
    "            \n",
    "        #Fix stings\n",
    "        df=fix_string(df)\n",
    "        #Get JSON\n",
    "        df_json=json.dumps(df.to_dict(orient=\"records\"))\n",
    "        return {'df_pd':df,'df_json':df_json}\n",
    "        \n",
    "    except Exception as e:\n",
    "        print(e)\n",
    "#         return html.Div([\n",
    "#             'There was an error processing this file.'\n",
    "#         ])\n",
    "\n",
    "#     return html.Div([\n",
    "#         html.H5(filename),\n",
    "#         html.H6(datetime.datetime.fromtimestamp(date)),\n",
    "\n",
    "#         dash_table.DataTable(\n",
    "#             data=df.to_dict('records'),\n",
    "#             columns=[{'name': i, 'id': i} for i in df.columns]\n",
    "#         ),\n",
    "\n",
    "        \n",
    "        "
   ]
  },
  {
   "cell_type": "code",
   "execution_count": 5,
   "metadata": {},
   "outputs": [
    {
     "name": "stdout",
     "output_type": "stream",
     "text": [
      "Srings Fixed!\n"
     ]
    },
    {
     "data": {
      "text/plain": [
       "{'df_pd':    ID        Name  Age Favorite Color\n",
       " 0   1         Bob   23            Red\n",
       " 1   2  \"Doe,John\"   99    \"Turquoise\",\n",
       " 'df_json': '[{\"ID\": 1, \"Name\": \"Bob\", \"Age\": 23, \"Favorite Color\": \"Red\"}, {\"ID\": 2, \"Name\": \"\\\\\"Doe,John\\\\\"\", \"Age\": 99, \"Favorite Color\": \"\\\\\"Turquoise\\\\\"\"}]'}"
      ]
     },
     "execution_count": 5,
     "metadata": {},
     "output_type": "execute_result"
    }
   ],
   "source": [
    "parse_file('csv')"
   ]
  },
  {
   "cell_type": "code",
   "execution_count": 6,
   "metadata": {},
   "outputs": [
    {
     "data": {
      "text/plain": [
       "'\"Turquoise\"'"
      ]
     },
     "execution_count": 6,
     "metadata": {},
     "output_type": "execute_result"
    }
   ],
   "source": [
    "t_csv['Favorite Color'][1].encode().decode('utf-8').replace(u'\\u201c\\u201d\\u201d', '\\\"').replace('\\u201d\\u201d\\u201d', '\\\"')"
   ]
  },
  {
   "cell_type": "code",
   "execution_count": 7,
   "metadata": {},
   "outputs": [
    {
     "data": {
      "text/plain": [
       "'\"Doe,John\"'"
      ]
     },
     "execution_count": 7,
     "metadata": {},
     "output_type": "execute_result"
    }
   ],
   "source": [
    "t_csv['Name'][1].encode().decode('utf-8').replace(u'\\u201c', '\\\"').replace('\\u201d', '\\\"')"
   ]
  },
  {
   "cell_type": "code",
   "execution_count": 8,
   "metadata": {},
   "outputs": [],
   "source": [
    "df=t_csv\n",
    "def fix_string(df):\n",
    "    for col in (df.select_dtypes(exclude='int64').columns):\n",
    "        #print(col)\n",
    "        #Fix triple\n",
    "        df[col]=df[[col]].applymap(lambda x:x.encode().decode('utf-8').replace('\\u201c\\u201d\\u201d', '\\\"').replace('\\u201d\\u201d\\u201d', '\\\"'))\n",
    "        #Fix single\n",
    "        df[col]=df[[col]].applymap(lambda x:x.encode().decode('utf-8').replace('\\u201c', '\\\"').replace('\\u201d', '\\\"'))\n",
    "    print('Strings Fixed!')\n",
    "    return df"
   ]
  },
  {
   "cell_type": "code",
   "execution_count": 9,
   "metadata": {},
   "outputs": [
    {
     "data": {
      "text/html": [
       "<div>\n",
       "<style scoped>\n",
       "    .dataframe tbody tr th:only-of-type {\n",
       "        vertical-align: middle;\n",
       "    }\n",
       "\n",
       "    .dataframe tbody tr th {\n",
       "        vertical-align: top;\n",
       "    }\n",
       "\n",
       "    .dataframe thead th {\n",
       "        text-align: right;\n",
       "    }\n",
       "</style>\n",
       "<table border=\"1\" class=\"dataframe\">\n",
       "  <thead>\n",
       "    <tr style=\"text-align: right;\">\n",
       "      <th></th>\n",
       "      <th>ID</th>\n",
       "      <th>Name</th>\n",
       "      <th>Age</th>\n",
       "      <th>Favorite Color</th>\n",
       "    </tr>\n",
       "  </thead>\n",
       "  <tbody>\n",
       "    <tr>\n",
       "      <th>0</th>\n",
       "      <td>1</td>\n",
       "      <td>Bob</td>\n",
       "      <td>23</td>\n",
       "      <td>Red</td>\n",
       "    </tr>\n",
       "    <tr>\n",
       "      <th>1</th>\n",
       "      <td>2</td>\n",
       "      <td>“Doe,John”</td>\n",
       "      <td>99</td>\n",
       "      <td>“””Turquoise”””</td>\n",
       "    </tr>\n",
       "  </tbody>\n",
       "</table>\n",
       "</div>"
      ],
      "text/plain": [
       "   ID        Name  Age   Favorite Color\n",
       "0   1         Bob   23              Red\n",
       "1   2  “Doe,John”   99  “””Turquoise”””"
      ]
     },
     "execution_count": 9,
     "metadata": {},
     "output_type": "execute_result"
    }
   ],
   "source": [
    "df"
   ]
  },
  {
   "cell_type": "code",
   "execution_count": 10,
   "metadata": {},
   "outputs": [
    {
     "name": "stdout",
     "output_type": "stream",
     "text": [
      "Strings Fixed!\n"
     ]
    },
    {
     "data": {
      "text/html": [
       "<div>\n",
       "<style scoped>\n",
       "    .dataframe tbody tr th:only-of-type {\n",
       "        vertical-align: middle;\n",
       "    }\n",
       "\n",
       "    .dataframe tbody tr th {\n",
       "        vertical-align: top;\n",
       "    }\n",
       "\n",
       "    .dataframe thead th {\n",
       "        text-align: right;\n",
       "    }\n",
       "</style>\n",
       "<table border=\"1\" class=\"dataframe\">\n",
       "  <thead>\n",
       "    <tr style=\"text-align: right;\">\n",
       "      <th></th>\n",
       "      <th>ID</th>\n",
       "      <th>Name</th>\n",
       "      <th>Age</th>\n",
       "      <th>Favorite Color</th>\n",
       "    </tr>\n",
       "  </thead>\n",
       "  <tbody>\n",
       "    <tr>\n",
       "      <th>0</th>\n",
       "      <td>1</td>\n",
       "      <td>Bob</td>\n",
       "      <td>23</td>\n",
       "      <td>Red</td>\n",
       "    </tr>\n",
       "    <tr>\n",
       "      <th>1</th>\n",
       "      <td>2</td>\n",
       "      <td>\"Doe,John\"</td>\n",
       "      <td>99</td>\n",
       "      <td>\"Turquoise\"</td>\n",
       "    </tr>\n",
       "  </tbody>\n",
       "</table>\n",
       "</div>"
      ],
      "text/plain": [
       "   ID        Name  Age Favorite Color\n",
       "0   1         Bob   23            Red\n",
       "1   2  \"Doe,John\"   99    \"Turquoise\""
      ]
     },
     "execution_count": 10,
     "metadata": {},
     "output_type": "execute_result"
    }
   ],
   "source": [
    "fix_string(df)\n"
   ]
  },
  {
   "cell_type": "code",
   "execution_count": 11,
   "metadata": {},
   "outputs": [
    {
     "data": {
      "text/plain": [
       "'[{\"ID\": 1, \"Name\": \"Bob\", \"Age\": 23, \"Favorite Color\": \"Red\"}, {\"ID\": 2, \"Name\": \"\\\\\"Doe,John\\\\\"\", \"Age\": 99, \"Favorite Color\": \"\\\\\"Turquoise\\\\\"\"}]'"
      ]
     },
     "execution_count": 11,
     "metadata": {},
     "output_type": "execute_result"
    }
   ],
   "source": [
    "df_json=json.dumps(df.to_dict(orient=\"records\"))\n",
    "df_json"
   ]
  },
  {
   "cell_type": "code",
   "execution_count": 12,
   "metadata": {},
   "outputs": [],
   "source": [
    "df.to_csv (r'C:\\Users\\Ron\\Desktop\\Test\\New_Products.txt', index = False)"
   ]
  },
  {
   "cell_type": "code",
   "execution_count": 13,
   "metadata": {},
   "outputs": [],
   "source": [
    "import urllib"
   ]
  },
  {
   "cell_type": "code",
   "execution_count": 14,
   "metadata": {},
   "outputs": [
    {
     "data": {
      "text/plain": [
       "'data:text;charset=utf-8,ID%2CName%2CAge%2CFavorite%20Color%0A1%2CBob%2C23%2CRed%0A2%2C%22%22%22Doe%2CJohn%22%22%22%2C99%2C%22%22%22Turquoise%22%22%22%0A'"
      ]
     },
     "execution_count": 14,
     "metadata": {},
     "output_type": "execute_result"
    }
   ],
   "source": [
    "csv_string = df.to_csv(index=False, encoding='utf-8')\n",
    "csv_string = \"data:text;charset=utf-8,\" + urllib.parse.quote(csv_string)\n",
    "csv_string"
   ]
  },
  {
   "cell_type": "code",
   "execution_count": 15,
   "metadata": {},
   "outputs": [
    {
     "data": {
      "text/plain": [
       "'ID,Name,Age,Favorite Color\\n1,Bob,23,Red\\n2,\"\"\"Doe,John\"\"\",99,\"\"\"Turquoise\"\"\"\\n'"
      ]
     },
     "execution_count": 15,
     "metadata": {},
     "output_type": "execute_result"
    }
   ],
   "source": [
    "df.to_csv(index=False)"
   ]
  },
  {
   "cell_type": "code",
   "execution_count": 16,
   "metadata": {},
   "outputs": [
    {
     "data": {
      "text/plain": [
       "'[{\"ID\": 1, \"Name\": \"Bob\", \"Age\": 23, \"Favorite Color\": \"Red\"}, {\"ID\": 2, \"Name\": \"\\\\\"Doe,John\\\\\"\", \"Age\": 99, \"Favorite Color\": \"\\\\\"Turquoise\\\\\"\"}]'"
      ]
     },
     "execution_count": 16,
     "metadata": {},
     "output_type": "execute_result"
    }
   ],
   "source": [
    "df_json"
   ]
  },
  {
   "cell_type": "code",
   "execution_count": 17,
   "metadata": {},
   "outputs": [],
   "source": [
    "with open('rawjson.json', 'w') as json_file:\n",
    "    json.dump(df.to_dict(orient=\"records\"), json_file)"
   ]
  },
  {
   "cell_type": "code",
   "execution_count": 18,
   "metadata": {},
   "outputs": [
    {
     "data": {
      "text/plain": [
       "'data:text;charset=utf-8,%5B%7B%22ID%22%3A%201%2C%20%22Name%22%3A%20%22Bob%22%2C%20%22Age%22%3A%2023%2C%20%22Favorite%20Color%22%3A%20%22Red%22%7D%2C%20%7B%22ID%22%3A%202%2C%20%22Name%22%3A%20%22%5C%22Doe%2CJohn%5C%22%22%2C%20%22Age%22%3A%2099%2C%20%22Favorite%20Color%22%3A%20%22%5C%22Turquoise%5C%22%22%7D%5D'"
      ]
     },
     "execution_count": 18,
     "metadata": {},
     "output_type": "execute_result"
    }
   ],
   "source": [
    "\"data:text;charset=utf-8,\" + urllib.parse.quote(json.dumps(df.to_dict(orient=\"records\")).encode('utf-8'))"
   ]
  },
  {
   "cell_type": "code",
   "execution_count": null,
   "metadata": {},
   "outputs": [],
   "source": [
    "df_json"
   ]
  },
  {
   "cell_type": "code",
   "execution_count": null,
   "metadata": {},
   "outputs": [],
   "source": [
    "json.dumps(df.to_dict(orient=\"records\")).encode()"
   ]
  },
  {
   "cell_type": "code",
   "execution_count": null,
   "metadata": {},
   "outputs": [],
   "source": []
  }
 ],
 "metadata": {
  "kernelspec": {
   "display_name": "Python 3",
   "language": "python",
   "name": "python3"
  },
  "language_info": {
   "codemirror_mode": {
    "name": "ipython",
    "version": 3
   },
   "file_extension": ".py",
   "mimetype": "text/x-python",
   "name": "python",
   "nbconvert_exporter": "python",
   "pygments_lexer": "ipython3",
   "version": "3.7.6"
  }
 },
 "nbformat": 4,
 "nbformat_minor": 4
}
